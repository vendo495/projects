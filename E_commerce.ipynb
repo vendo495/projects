{
  "nbformat": 4,
  "nbformat_minor": 0,
  "metadata": {
    "colab": {
      "provenance": [],
      "authorship_tag": "ABX9TyN7iWCUeHHidDHTKV3GacSh",
      "include_colab_link": true
    },
    "kernelspec": {
      "name": "python3",
      "display_name": "Python 3"
    },
    "language_info": {
      "name": "python"
    }
  },
  "cells": [
    {
      "cell_type": "markdown",
      "metadata": {
        "id": "view-in-github",
        "colab_type": "text"
      },
      "source": [
        "<a href=\"https://colab.research.google.com/github/vendo495/projects/blob/main/E_commerce.ipynb\" target=\"_parent\"><img src=\"https://colab.research.google.com/assets/colab-badge.svg\" alt=\"Open In Colab\"/></a>"
      ]
    },
    {
      "cell_type": "code",
      "execution_count": null,
      "metadata": {
        "colab": {
          "base_uri": "https://localhost:8080/",
          "height": 414
        },
        "id": "6RFIRLtH8T7S",
        "outputId": "43663e3b-bd79-4913-fcd1-a315b3b487e8"
      },
      "outputs": [
        {
          "output_type": "execute_result",
          "data": {
            "text/plain": [
              "                                                name   brand  \\\n",
              "0  All-New Fire HD 8 Tablet, 8\" HD Display, Wi-Fi...  Amazon   \n",
              "1        Amazon - Echo Plus w/ Built-In Hub - Silver  Amazon   \n",
              "2  Amazon Echo Show Alexa-enabled Bluetooth Speak...  Amazon   \n",
              "3  Fire HD 10 Tablet, 10.1 HD Display, Wi-Fi, 16 ...  Amazon   \n",
              "4  Brand New Amazon Kindle Fire 16gb 7\" Ips Displ...  Amazon   \n",
              "\n",
              "                                          categories  \\\n",
              "0  Electronics,iPad & Tablets,All Tablets,Fire Ta...   \n",
              "1  Amazon Echo,Smart Home,Networking,Home & Tools...   \n",
              "2  Amazon Echo,Virtual Assistant Speakers,Electro...   \n",
              "3  eBook Readers,Fire Tablets,Electronics Feature...   \n",
              "4  Computers/Tablets & Networking,Tablets & eBook...   \n",
              "\n",
              "             primaryCategories              reviews.date  \\\n",
              "0                  Electronics  2016-12-26T00:00:00.000Z   \n",
              "1         Electronics,Hardware  2018-01-17T00:00:00.000Z   \n",
              "2         Electronics,Hardware  2017-12-20T00:00:00.000Z   \n",
              "3  Office Supplies,Electronics  2017-08-04T00:00:00.000Z   \n",
              "4                  Electronics  2017-01-23T00:00:00.000Z   \n",
              "\n",
              "                                        reviews.text  \\\n",
              "0  Purchased on Black FridayPros - Great Price (e...   \n",
              "1  I purchased two Amazon in Echo Plus and two do...   \n",
              "2  Just an average Alexa option. Does show a few ...   \n",
              "3  very good product. Exactly what I wanted, and ...   \n",
              "4  This is the 3rd one I've purchased. I've bough...   \n",
              "\n",
              "              reviews.title sentiment  \n",
              "0           Powerful tablet  Positive  \n",
              "1  Amazon Echo Plus AWESOME  Positive  \n",
              "2                   Average   Neutral  \n",
              "3               Greattttttt  Positive  \n",
              "4             Very durable!  Positive  "
            ],
            "text/html": [
              "\n",
              "  <div id=\"df-3b631f7d-7025-410a-be6b-a7853211d41f\" class=\"colab-df-container\">\n",
              "    <div>\n",
              "<style scoped>\n",
              "    .dataframe tbody tr th:only-of-type {\n",
              "        vertical-align: middle;\n",
              "    }\n",
              "\n",
              "    .dataframe tbody tr th {\n",
              "        vertical-align: top;\n",
              "    }\n",
              "\n",
              "    .dataframe thead th {\n",
              "        text-align: right;\n",
              "    }\n",
              "</style>\n",
              "<table border=\"1\" class=\"dataframe\">\n",
              "  <thead>\n",
              "    <tr style=\"text-align: right;\">\n",
              "      <th></th>\n",
              "      <th>name</th>\n",
              "      <th>brand</th>\n",
              "      <th>categories</th>\n",
              "      <th>primaryCategories</th>\n",
              "      <th>reviews.date</th>\n",
              "      <th>reviews.text</th>\n",
              "      <th>reviews.title</th>\n",
              "      <th>sentiment</th>\n",
              "    </tr>\n",
              "  </thead>\n",
              "  <tbody>\n",
              "    <tr>\n",
              "      <th>0</th>\n",
              "      <td>All-New Fire HD 8 Tablet, 8\" HD Display, Wi-Fi...</td>\n",
              "      <td>Amazon</td>\n",
              "      <td>Electronics,iPad &amp; Tablets,All Tablets,Fire Ta...</td>\n",
              "      <td>Electronics</td>\n",
              "      <td>2016-12-26T00:00:00.000Z</td>\n",
              "      <td>Purchased on Black FridayPros - Great Price (e...</td>\n",
              "      <td>Powerful tablet</td>\n",
              "      <td>Positive</td>\n",
              "    </tr>\n",
              "    <tr>\n",
              "      <th>1</th>\n",
              "      <td>Amazon - Echo Plus w/ Built-In Hub - Silver</td>\n",
              "      <td>Amazon</td>\n",
              "      <td>Amazon Echo,Smart Home,Networking,Home &amp; Tools...</td>\n",
              "      <td>Electronics,Hardware</td>\n",
              "      <td>2018-01-17T00:00:00.000Z</td>\n",
              "      <td>I purchased two Amazon in Echo Plus and two do...</td>\n",
              "      <td>Amazon Echo Plus AWESOME</td>\n",
              "      <td>Positive</td>\n",
              "    </tr>\n",
              "    <tr>\n",
              "      <th>2</th>\n",
              "      <td>Amazon Echo Show Alexa-enabled Bluetooth Speak...</td>\n",
              "      <td>Amazon</td>\n",
              "      <td>Amazon Echo,Virtual Assistant Speakers,Electro...</td>\n",
              "      <td>Electronics,Hardware</td>\n",
              "      <td>2017-12-20T00:00:00.000Z</td>\n",
              "      <td>Just an average Alexa option. Does show a few ...</td>\n",
              "      <td>Average</td>\n",
              "      <td>Neutral</td>\n",
              "    </tr>\n",
              "    <tr>\n",
              "      <th>3</th>\n",
              "      <td>Fire HD 10 Tablet, 10.1 HD Display, Wi-Fi, 16 ...</td>\n",
              "      <td>Amazon</td>\n",
              "      <td>eBook Readers,Fire Tablets,Electronics Feature...</td>\n",
              "      <td>Office Supplies,Electronics</td>\n",
              "      <td>2017-08-04T00:00:00.000Z</td>\n",
              "      <td>very good product. Exactly what I wanted, and ...</td>\n",
              "      <td>Greattttttt</td>\n",
              "      <td>Positive</td>\n",
              "    </tr>\n",
              "    <tr>\n",
              "      <th>4</th>\n",
              "      <td>Brand New Amazon Kindle Fire 16gb 7\" Ips Displ...</td>\n",
              "      <td>Amazon</td>\n",
              "      <td>Computers/Tablets &amp; Networking,Tablets &amp; eBook...</td>\n",
              "      <td>Electronics</td>\n",
              "      <td>2017-01-23T00:00:00.000Z</td>\n",
              "      <td>This is the 3rd one I've purchased. I've bough...</td>\n",
              "      <td>Very durable!</td>\n",
              "      <td>Positive</td>\n",
              "    </tr>\n",
              "  </tbody>\n",
              "</table>\n",
              "</div>\n",
              "    <div class=\"colab-df-buttons\">\n",
              "\n",
              "  <div class=\"colab-df-container\">\n",
              "    <button class=\"colab-df-convert\" onclick=\"convertToInteractive('df-3b631f7d-7025-410a-be6b-a7853211d41f')\"\n",
              "            title=\"Convert this dataframe to an interactive table.\"\n",
              "            style=\"display:none;\">\n",
              "\n",
              "  <svg xmlns=\"http://www.w3.org/2000/svg\" height=\"24px\" viewBox=\"0 -960 960 960\">\n",
              "    <path d=\"M120-120v-720h720v720H120Zm60-500h600v-160H180v160Zm220 220h160v-160H400v160Zm0 220h160v-160H400v160ZM180-400h160v-160H180v160Zm440 0h160v-160H620v160ZM180-180h160v-160H180v160Zm440 0h160v-160H620v160Z\"/>\n",
              "  </svg>\n",
              "    </button>\n",
              "\n",
              "  <style>\n",
              "    .colab-df-container {\n",
              "      display:flex;\n",
              "      gap: 12px;\n",
              "    }\n",
              "\n",
              "    .colab-df-convert {\n",
              "      background-color: #E8F0FE;\n",
              "      border: none;\n",
              "      border-radius: 50%;\n",
              "      cursor: pointer;\n",
              "      display: none;\n",
              "      fill: #1967D2;\n",
              "      height: 32px;\n",
              "      padding: 0 0 0 0;\n",
              "      width: 32px;\n",
              "    }\n",
              "\n",
              "    .colab-df-convert:hover {\n",
              "      background-color: #E2EBFA;\n",
              "      box-shadow: 0px 1px 2px rgba(60, 64, 67, 0.3), 0px 1px 3px 1px rgba(60, 64, 67, 0.15);\n",
              "      fill: #174EA6;\n",
              "    }\n",
              "\n",
              "    .colab-df-buttons div {\n",
              "      margin-bottom: 4px;\n",
              "    }\n",
              "\n",
              "    [theme=dark] .colab-df-convert {\n",
              "      background-color: #3B4455;\n",
              "      fill: #D2E3FC;\n",
              "    }\n",
              "\n",
              "    [theme=dark] .colab-df-convert:hover {\n",
              "      background-color: #434B5C;\n",
              "      box-shadow: 0px 1px 3px 1px rgba(0, 0, 0, 0.15);\n",
              "      filter: drop-shadow(0px 1px 2px rgba(0, 0, 0, 0.3));\n",
              "      fill: #FFFFFF;\n",
              "    }\n",
              "  </style>\n",
              "\n",
              "    <script>\n",
              "      const buttonEl =\n",
              "        document.querySelector('#df-3b631f7d-7025-410a-be6b-a7853211d41f button.colab-df-convert');\n",
              "      buttonEl.style.display =\n",
              "        google.colab.kernel.accessAllowed ? 'block' : 'none';\n",
              "\n",
              "      async function convertToInteractive(key) {\n",
              "        const element = document.querySelector('#df-3b631f7d-7025-410a-be6b-a7853211d41f');\n",
              "        const dataTable =\n",
              "          await google.colab.kernel.invokeFunction('convertToInteractive',\n",
              "                                                    [key], {});\n",
              "        if (!dataTable) return;\n",
              "\n",
              "        const docLinkHtml = 'Like what you see? Visit the ' +\n",
              "          '<a target=\"_blank\" href=https://colab.research.google.com/notebooks/data_table.ipynb>data table notebook</a>'\n",
              "          + ' to learn more about interactive tables.';\n",
              "        element.innerHTML = '';\n",
              "        dataTable['output_type'] = 'display_data';\n",
              "        await google.colab.output.renderOutput(dataTable, element);\n",
              "        const docLink = document.createElement('div');\n",
              "        docLink.innerHTML = docLinkHtml;\n",
              "        element.appendChild(docLink);\n",
              "      }\n",
              "    </script>\n",
              "  </div>\n",
              "\n",
              "\n",
              "<div id=\"df-fbdaf804-9080-40bb-b5d3-461d17bfc8a7\">\n",
              "  <button class=\"colab-df-quickchart\" onclick=\"quickchart('df-fbdaf804-9080-40bb-b5d3-461d17bfc8a7')\"\n",
              "            title=\"Suggest charts.\"\n",
              "            style=\"display:none;\">\n",
              "\n",
              "<svg xmlns=\"http://www.w3.org/2000/svg\" height=\"24px\"viewBox=\"0 0 24 24\"\n",
              "     width=\"24px\">\n",
              "    <g>\n",
              "        <path d=\"M19 3H5c-1.1 0-2 .9-2 2v14c0 1.1.9 2 2 2h14c1.1 0 2-.9 2-2V5c0-1.1-.9-2-2-2zM9 17H7v-7h2v7zm4 0h-2V7h2v10zm4 0h-2v-4h2v4z\"/>\n",
              "    </g>\n",
              "</svg>\n",
              "  </button>\n",
              "\n",
              "<style>\n",
              "  .colab-df-quickchart {\n",
              "      --bg-color: #E8F0FE;\n",
              "      --fill-color: #1967D2;\n",
              "      --hover-bg-color: #E2EBFA;\n",
              "      --hover-fill-color: #174EA6;\n",
              "      --disabled-fill-color: #AAA;\n",
              "      --disabled-bg-color: #DDD;\n",
              "  }\n",
              "\n",
              "  [theme=dark] .colab-df-quickchart {\n",
              "      --bg-color: #3B4455;\n",
              "      --fill-color: #D2E3FC;\n",
              "      --hover-bg-color: #434B5C;\n",
              "      --hover-fill-color: #FFFFFF;\n",
              "      --disabled-bg-color: #3B4455;\n",
              "      --disabled-fill-color: #666;\n",
              "  }\n",
              "\n",
              "  .colab-df-quickchart {\n",
              "    background-color: var(--bg-color);\n",
              "    border: none;\n",
              "    border-radius: 50%;\n",
              "    cursor: pointer;\n",
              "    display: none;\n",
              "    fill: var(--fill-color);\n",
              "    height: 32px;\n",
              "    padding: 0;\n",
              "    width: 32px;\n",
              "  }\n",
              "\n",
              "  .colab-df-quickchart:hover {\n",
              "    background-color: var(--hover-bg-color);\n",
              "    box-shadow: 0 1px 2px rgba(60, 64, 67, 0.3), 0 1px 3px 1px rgba(60, 64, 67, 0.15);\n",
              "    fill: var(--button-hover-fill-color);\n",
              "  }\n",
              "\n",
              "  .colab-df-quickchart-complete:disabled,\n",
              "  .colab-df-quickchart-complete:disabled:hover {\n",
              "    background-color: var(--disabled-bg-color);\n",
              "    fill: var(--disabled-fill-color);\n",
              "    box-shadow: none;\n",
              "  }\n",
              "\n",
              "  .colab-df-spinner {\n",
              "    border: 2px solid var(--fill-color);\n",
              "    border-color: transparent;\n",
              "    border-bottom-color: var(--fill-color);\n",
              "    animation:\n",
              "      spin 1s steps(1) infinite;\n",
              "  }\n",
              "\n",
              "  @keyframes spin {\n",
              "    0% {\n",
              "      border-color: transparent;\n",
              "      border-bottom-color: var(--fill-color);\n",
              "      border-left-color: var(--fill-color);\n",
              "    }\n",
              "    20% {\n",
              "      border-color: transparent;\n",
              "      border-left-color: var(--fill-color);\n",
              "      border-top-color: var(--fill-color);\n",
              "    }\n",
              "    30% {\n",
              "      border-color: transparent;\n",
              "      border-left-color: var(--fill-color);\n",
              "      border-top-color: var(--fill-color);\n",
              "      border-right-color: var(--fill-color);\n",
              "    }\n",
              "    40% {\n",
              "      border-color: transparent;\n",
              "      border-right-color: var(--fill-color);\n",
              "      border-top-color: var(--fill-color);\n",
              "    }\n",
              "    60% {\n",
              "      border-color: transparent;\n",
              "      border-right-color: var(--fill-color);\n",
              "    }\n",
              "    80% {\n",
              "      border-color: transparent;\n",
              "      border-right-color: var(--fill-color);\n",
              "      border-bottom-color: var(--fill-color);\n",
              "    }\n",
              "    90% {\n",
              "      border-color: transparent;\n",
              "      border-bottom-color: var(--fill-color);\n",
              "    }\n",
              "  }\n",
              "</style>\n",
              "\n",
              "  <script>\n",
              "    async function quickchart(key) {\n",
              "      const quickchartButtonEl =\n",
              "        document.querySelector('#' + key + ' button');\n",
              "      quickchartButtonEl.disabled = true;  // To prevent multiple clicks.\n",
              "      quickchartButtonEl.classList.add('colab-df-spinner');\n",
              "      try {\n",
              "        const charts = await google.colab.kernel.invokeFunction(\n",
              "            'suggestCharts', [key], {});\n",
              "      } catch (error) {\n",
              "        console.error('Error during call to suggestCharts:', error);\n",
              "      }\n",
              "      quickchartButtonEl.classList.remove('colab-df-spinner');\n",
              "      quickchartButtonEl.classList.add('colab-df-quickchart-complete');\n",
              "    }\n",
              "    (() => {\n",
              "      let quickchartButtonEl =\n",
              "        document.querySelector('#df-fbdaf804-9080-40bb-b5d3-461d17bfc8a7 button');\n",
              "      quickchartButtonEl.style.display =\n",
              "        google.colab.kernel.accessAllowed ? 'block' : 'none';\n",
              "    })();\n",
              "  </script>\n",
              "</div>\n",
              "    </div>\n",
              "  </div>\n"
            ]
          },
          "metadata": {},
          "execution_count": 1
        }
      ],
      "source": [
        "import pandas as pd\n",
        "\n",
        "# Load the training dataset\n",
        "train_data = pd.read_csv('/content/train_data.csv')\n",
        "\n",
        "# Display the first few rows of the dataset\n",
        "train_data.head()\n"
      ]
    },
    {
      "cell_type": "code",
      "source": [
        "# Extract one review from each sentiment class\n",
        "positive_review = train_data[train_data['sentiment'] == 'Positive']['reviews.text'].iloc[0]\n",
        "negative_review = train_data[train_data['sentiment'] == 'Negative']['reviews.text'].iloc[0]\n",
        "neutral_review = train_data[train_data['sentiment'] == 'Neutral']['reviews.text'].iloc[0]\n",
        "\n",
        "positive_review, negative_review, neutral_review\n"
      ],
      "metadata": {
        "colab": {
          "base_uri": "https://localhost:8080/"
        },
        "id": "2MSbFHR49lrm",
        "outputId": "ab0267c0-0477-4fdb-9d23-f609df90b1ee"
      },
      "execution_count": null,
      "outputs": [
        {
          "output_type": "execute_result",
          "data": {
            "text/plain": [
              "('Purchased on Black FridayPros - Great Price (even off sale)Very powerful and fast with quad core processors Amazing soundWell builtCons -Amazon ads, Amazon need this to subsidize the tablet and will remove the adds if you pay them $15.Inability to access other apps except the ones from Amazon. There is a way which I was able to accomplish to add the Google Play storeNet this is a great tablet for the money',\n",
              " 'was cheap, can not run chrome stuff, returned to store.',\n",
              " 'Just an average Alexa option. Does show a few things on screen but still limited.')"
            ]
          },
          "metadata": {},
          "execution_count": 2
        }
      ]
    },
    {
      "cell_type": "code",
      "source": [
        "# Check the class count for each sentiment\n",
        "class_counts = train_data['sentiment'].value_counts()\n",
        "\n",
        "class_counts\n"
      ],
      "metadata": {
        "colab": {
          "base_uri": "https://localhost:8080/"
        },
        "id": "yo70sv0A9oK0",
        "outputId": "65f0f15c-0c02-4f94-f6d6-e5610533e7ed"
      },
      "execution_count": null,
      "outputs": [
        {
          "output_type": "execute_result",
          "data": {
            "text/plain": [
              "Positive    3749\n",
              "Neutral      158\n",
              "Negative      93\n",
              "Name: sentiment, dtype: int64"
            ]
          },
          "metadata": {},
          "execution_count": 3
        }
      ]
    },
    {
      "cell_type": "code",
      "source": [
        "from sklearn.feature_extraction.text import TfidfVectorizer\n",
        "\n",
        "# Initialize a Tf-Idf vectorizer\n",
        "tfidf_vectorizer = TfidfVectorizer(max_features=5000, stop_words='english')\n",
        "\n",
        "# Fit and transform the reviews.text column\n",
        "X_tfidf = tfidf_vectorizer.fit_transform(train_data['reviews.text'])\n",
        "\n",
        "X_tfidf.shape\n"
      ],
      "metadata": {
        "colab": {
          "base_uri": "https://localhost:8080/"
        },
        "id": "ZTBF4Au69r4X",
        "outputId": "6fb78a2d-e8db-4453-a308-cea4ab28e176"
      },
      "execution_count": null,
      "outputs": [
        {
          "output_type": "execute_result",
          "data": {
            "text/plain": [
              "(4000, 4633)"
            ]
          },
          "metadata": {},
          "execution_count": 4
        }
      ]
    },
    {
      "cell_type": "code",
      "source": [
        "from sklearn.naive_bayes import MultinomialNB\n",
        "from sklearn.metrics import classification_report\n",
        "\n",
        "# Initialize and train the Multinomial Naive Bayes classifier\n",
        "clf = MultinomialNB()\n",
        "clf.fit(X_tfidf, train_data['sentiment'])\n",
        "\n",
        "# Predict on the training data\n",
        "train_predictions = clf.predict(X_tfidf)\n",
        "\n",
        "# Evaluate the classifier's performance\n",
        "report = classification_report(train_data['sentiment'], train_predictions, target_names=['Negative', 'Neutral', 'Positive'])\n",
        "\n",
        "report\n"
      ],
      "metadata": {
        "colab": {
          "base_uri": "https://localhost:8080/",
          "height": 194
        },
        "id": "i-Rlu4-G9uW-",
        "outputId": "c2d2db3c-8156-4507-d27f-42c449930190"
      },
      "execution_count": null,
      "outputs": [
        {
          "output_type": "stream",
          "name": "stderr",
          "text": [
            "/usr/local/lib/python3.10/dist-packages/sklearn/metrics/_classification.py:1344: UndefinedMetricWarning: Precision and F-score are ill-defined and being set to 0.0 in labels with no predicted samples. Use `zero_division` parameter to control this behavior.\n",
            "  _warn_prf(average, modifier, msg_start, len(result))\n",
            "/usr/local/lib/python3.10/dist-packages/sklearn/metrics/_classification.py:1344: UndefinedMetricWarning: Precision and F-score are ill-defined and being set to 0.0 in labels with no predicted samples. Use `zero_division` parameter to control this behavior.\n",
            "  _warn_prf(average, modifier, msg_start, len(result))\n",
            "/usr/local/lib/python3.10/dist-packages/sklearn/metrics/_classification.py:1344: UndefinedMetricWarning: Precision and F-score are ill-defined and being set to 0.0 in labels with no predicted samples. Use `zero_division` parameter to control this behavior.\n",
            "  _warn_prf(average, modifier, msg_start, len(result))\n"
          ]
        },
        {
          "output_type": "execute_result",
          "data": {
            "text/plain": [
              "'              precision    recall  f1-score   support\\n\\n    Negative       0.00      0.00      0.00        93\\n     Neutral       0.00      0.00      0.00       158\\n    Positive       0.94      1.00      0.97      3749\\n\\n    accuracy                           0.94      4000\\n   macro avg       0.31      0.33      0.32      4000\\nweighted avg       0.88      0.94      0.91      4000\\n'"
            ],
            "application/vnd.google.colaboratory.intrinsic+json": {
              "type": "string"
            }
          },
          "metadata": {},
          "execution_count": 5
        }
      ]
    },
    {
      "cell_type": "code",
      "source": [],
      "metadata": {
        "id": "uweqXqFzGplN"
      },
      "execution_count": null,
      "outputs": []
    },
    {
      "cell_type": "markdown",
      "source": [
        "# class imbalance\n"
      ],
      "metadata": {
        "id": "KOjo-7sQ-ac1"
      }
    },
    {
      "cell_type": "code",
      "source": [
        "from sklearn.utils import resample\n",
        "\n",
        "# Separate each sentiment class\n",
        "positive_data = train_data[train_data['sentiment'] == 'Positive']\n",
        "neutral_data = train_data[train_data['sentiment'] == 'Neutral']\n",
        "negative_data = train_data[train_data['sentiment'] == 'Negative']\n",
        "\n",
        "# Oversample the minority classes\n",
        "neutral_oversampled = resample(neutral_data, replace=True, n_samples=len(positive_data), random_state=42)\n",
        "negative_oversampled = resample(negative_data, replace=True, n_samples=len(positive_data), random_state=42)\n",
        "\n",
        "# Combine the oversampled minority classes with the majority class\n",
        "oversampled_data = pd.concat([positive_data, neutral_oversampled, negative_oversampled])\n",
        "\n",
        "# Convert reviews to Tf-Idf scores again\n",
        "X_oversampled_tfidf = tfidf_vectorizer.transform(oversampled_data['reviews.text'])\n",
        "y_oversampled = oversampled_data['sentiment']\n",
        "\n",
        "# Check the new class distribution after manual oversampling\n",
        "y_oversampled.value_counts()\n"
      ],
      "metadata": {
        "colab": {
          "base_uri": "https://localhost:8080/"
        },
        "id": "guPRxnEh9v9c",
        "outputId": "121bef54-54f3-4c07-ec26-488c02f57356"
      },
      "execution_count": null,
      "outputs": [
        {
          "output_type": "execute_result",
          "data": {
            "text/plain": [
              "Positive    3749\n",
              "Neutral     3749\n",
              "Negative    3749\n",
              "Name: sentiment, dtype: int64"
            ]
          },
          "metadata": {},
          "execution_count": 6
        }
      ]
    },
    {
      "cell_type": "code",
      "source": [
        "# Train the Multinomial Naive Bayes classifier on the oversampled data\n",
        "clf.fit(X_oversampled_tfidf, y_oversampled)\n",
        "\n",
        "# Predict on the oversampled data\n",
        "oversampled_predictions = clf.predict(X_oversampled_tfidf)\n",
        "\n",
        "# Evaluate the classifier's performance on the oversampled data\n",
        "oversampled_report = classification_report(y_oversampled, oversampled_predictions, target_names=['Negative', 'Neutral', 'Positive'])\n",
        "\n",
        "oversampled_report\n"
      ],
      "metadata": {
        "colab": {
          "base_uri": "https://localhost:8080/",
          "height": 70
        },
        "id": "ZVmTPHzz-NRF",
        "outputId": "5947bb3b-b134-48a9-e71a-cc3e735c5d31"
      },
      "execution_count": null,
      "outputs": [
        {
          "output_type": "execute_result",
          "data": {
            "text/plain": [
              "'              precision    recall  f1-score   support\\n\\n    Negative       0.98      1.00      0.99      3749\\n     Neutral       0.95      0.99      0.97      3749\\n    Positive       0.99      0.92      0.95      3749\\n\\n    accuracy                           0.97     11247\\n   macro avg       0.97      0.97      0.97     11247\\nweighted avg       0.97      0.97      0.97     11247\\n'"
            ],
            "application/vnd.google.colaboratory.intrinsic+json": {
              "type": "string"
            }
          },
          "metadata": {},
          "execution_count": 7
        }
      ]
    },
    {
      "cell_type": "code",
      "source": [
        "from sklearn.ensemble import RandomForestClassifier\n",
        "\n",
        "# Initialize and train the Random Forest classifier\n",
        "rf_clf = RandomForestClassifier(n_estimators=100, random_state=42)\n",
        "rf_clf.fit(X_oversampled_tfidf, y_oversampled)\n",
        "\n",
        "# Predict on the oversampled data\n",
        "rf_predictions = rf_clf.predict(X_oversampled_tfidf)\n",
        "\n",
        "# Evaluate the classifier's performance on the oversampled data\n",
        "rf_report = classification_report(y_oversampled, rf_predictions, target_names=['Negative', 'Neutral', 'Positive'])\n",
        "\n",
        "rf_report\n"
      ],
      "metadata": {
        "colab": {
          "base_uri": "https://localhost:8080/",
          "height": 70
        },
        "id": "uR6fEUia-REN",
        "outputId": "c13dac25-acaa-4c88-824e-94edc183dd56"
      },
      "execution_count": null,
      "outputs": [
        {
          "output_type": "execute_result",
          "data": {
            "text/plain": [
              "'              precision    recall  f1-score   support\\n\\n    Negative       1.00      1.00      1.00      3749\\n     Neutral       1.00      1.00      1.00      3749\\n    Positive       1.00      1.00      1.00      3749\\n\\n    accuracy                           1.00     11247\\n   macro avg       1.00      1.00      1.00     11247\\nweighted avg       1.00      1.00      1.00     11247\\n'"
            ],
            "application/vnd.google.colaboratory.intrinsic+json": {
              "type": "string"
            }
          },
          "metadata": {},
          "execution_count": 8
        }
      ]
    },
    {
      "cell_type": "code",
      "source": [
        "from sklearn.ensemble import GradientBoostingClassifier\n",
        "\n",
        "# Initialize and train the Gradient Boosting Classifier\n",
        "gb_clf = GradientBoostingClassifier(n_estimators=100, random_state=42)\n",
        "gb_clf.fit(X_reduced_oversampled_tfidf, y_reduced_oversampled)\n",
        "\n",
        "# Predict on the subset of the oversampled data\n",
        "gb_predictions = gb_clf.predict(X_reduced_oversampled_tfidf)\n",
        "\n",
        "# Evaluate the classifier's performance on the subset of the oversampled data\n",
        "gb_report = classification_report(y_reduced_oversampled, gb_predictions, target_names=['Negative', 'Neutral', 'Positive'])\n",
        "\n",
        "gb_report\n"
      ],
      "metadata": {
        "colab": {
          "base_uri": "https://localhost:8080/",
          "height": 70
        },
        "id": "LIimx4gt-tbl",
        "outputId": "769eda3f-817f-4f6b-fda7-a6f8c36cbf55"
      },
      "execution_count": null,
      "outputs": [
        {
          "output_type": "execute_result",
          "data": {
            "text/plain": [
              "'              precision    recall  f1-score   support\\n\\n    Negative       0.98      1.00      0.99      1832\\n     Neutral       0.91      0.97      0.94      1882\\n    Positive       0.97      0.89      0.93      1910\\n\\n    accuracy                           0.95      5624\\n   macro avg       0.95      0.95      0.95      5624\\nweighted avg       0.95      0.95      0.95      5624\\n'"
            ],
            "application/vnd.google.colaboratory.intrinsic+json": {
              "type": "string"
            }
          },
          "metadata": {},
          "execution_count": 11
        }
      ]
    },
    {
      "cell_type": "code",
      "source": [
        "from sklearn.svm import SVC\n",
        "\n",
        "# Initialize and train the multi-class SVM\n",
        "svm_clf = SVC(kernel='linear', decision_function_shape='ovr', random_state=42)\n",
        "svm_clf.fit(X_reduced_oversampled_tfidf, y_reduced_oversampled)\n",
        "\n",
        "# Predict on the subset of the oversampled data\n",
        "svm_predictions = svm_clf.predict(X_reduced_oversampled_tfidf)\n",
        "\n",
        "# Evaluate the classifier's performance on the subset of the oversampled data\n",
        "svm_report = classification_report(y_reduced_oversampled, svm_predictions, target_names=['Negative', 'Neutral', 'Positive'])\n",
        "\n",
        "svm_report\n"
      ],
      "metadata": {
        "colab": {
          "base_uri": "https://localhost:8080/",
          "height": 70
        },
        "id": "hf9Fyd8J_Dvm",
        "outputId": "31cc79cc-bbb5-4d5e-9006-7c4e208f60c7"
      },
      "execution_count": null,
      "outputs": [
        {
          "output_type": "execute_result",
          "data": {
            "text/plain": [
              "'              precision    recall  f1-score   support\\n\\n    Negative       1.00      1.00      1.00      1832\\n     Neutral       0.99      1.00      0.99      1882\\n    Positive       1.00      0.99      0.99      1910\\n\\n    accuracy                           0.99      5624\\n   macro avg       0.99      0.99      0.99      5624\\nweighted avg       0.99      0.99      0.99      5624\\n'"
            ],
            "application/vnd.google.colaboratory.intrinsic+json": {
              "type": "string"
            }
          },
          "metadata": {},
          "execution_count": 12
        }
      ]
    },
    {
      "cell_type": "code",
      "source": [
        "from sklearn.utils import resample\n",
        "from sklearn.model_selection import train_test_split\n",
        "from sklearn.ensemble import RandomForestClassifier\n",
        "from sklearn.naive_bayes import MultinomialNB\n",
        "from sklearn.linear_model import LogisticRegression\n",
        "from sklearn.feature_extraction.text import TfidfVectorizer\n",
        "import numpy as np\n",
        "from sklearn.metrics import classification_report"
      ],
      "metadata": {
        "id": "JCX0C_UXAXSU"
      },
      "execution_count": null,
      "outputs": []
    },
    {
      "cell_type": "code",
      "source": [
        "# Separate each sentiment class\n",
        "positive_data = train_data[train_data['sentiment'] == 'Positive']\n",
        "neutral_data = train_data[train_data['sentiment'] == 'Neutral']\n",
        "negative_data = train_data[train_data['sentiment'] == 'Negative']\n"
      ],
      "metadata": {
        "id": "XxDmqVzZGzq3"
      },
      "execution_count": null,
      "outputs": []
    },
    {
      "cell_type": "code",
      "source": [
        "# Oversample the minority classes\n",
        "neutral_oversampled = resample(neutral_data, replace=True, n_samples=len(positive_data), random_state=42)\n",
        "negative_oversampled = resample(negative_data, replace=True, n_samples=len(positive_data), random_state=42)\n"
      ],
      "metadata": {
        "id": "7obRElSHG1pl"
      },
      "execution_count": null,
      "outputs": []
    },
    {
      "cell_type": "code",
      "source": [
        "# Combine the oversampled minority classes with the majority class\n",
        "oversampled_data = pd.concat([positive_data, neutral_oversampled, negative_oversampled])\n"
      ],
      "metadata": {
        "id": "yQvi4Mr9G3nW"
      },
      "execution_count": null,
      "outputs": []
    },
    {
      "cell_type": "code",
      "source": [
        "# Reduce the feature space using fewer Tf-Idf features\n",
        "reduced_tfidf_vectorizer = TfidfVectorizer(max_features=2000, stop_words='english')\n",
        "X_reduced_tfidf = reduced_tfidf_vectorizer.fit_transform(oversampled_data['reviews.text'])\n",
        "y_reduced = oversampled_data['sentiment']\n"
      ],
      "metadata": {
        "id": "NeK8UzecG5Rl"
      },
      "execution_count": null,
      "outputs": []
    },
    {
      "cell_type": "code",
      "source": [
        "# Split the data into training and holdout sets\n",
        "X_train_blend, X_holdout_blend, y_train_blend, y_holdout_blend = train_test_split(\n",
        "    X_reduced_tfidf, y_reduced, test_size=0.2, random_state=42)\n"
      ],
      "metadata": {
        "id": "5euHS5JnG61E"
      },
      "execution_count": null,
      "outputs": []
    },
    {
      "cell_type": "code",
      "source": [
        "# Train base models on the training set\n",
        "rf_clf_blend = RandomForestClassifier(n_estimators=100, random_state=42)\n",
        "rf_clf_blend.fit(X_train_blend, y_train_blend)\n"
      ],
      "metadata": {
        "colab": {
          "base_uri": "https://localhost:8080/",
          "height": 75
        },
        "id": "Ood3aG5ZHCld",
        "outputId": "561d2594-2293-441e-ed2f-b9e471d9f0a0"
      },
      "execution_count": null,
      "outputs": [
        {
          "output_type": "execute_result",
          "data": {
            "text/plain": [
              "RandomForestClassifier(random_state=42)"
            ],
            "text/html": [
              "<style>#sk-container-id-1 {color: black;background-color: white;}#sk-container-id-1 pre{padding: 0;}#sk-container-id-1 div.sk-toggleable {background-color: white;}#sk-container-id-1 label.sk-toggleable__label {cursor: pointer;display: block;width: 100%;margin-bottom: 0;padding: 0.3em;box-sizing: border-box;text-align: center;}#sk-container-id-1 label.sk-toggleable__label-arrow:before {content: \"▸\";float: left;margin-right: 0.25em;color: #696969;}#sk-container-id-1 label.sk-toggleable__label-arrow:hover:before {color: black;}#sk-container-id-1 div.sk-estimator:hover label.sk-toggleable__label-arrow:before {color: black;}#sk-container-id-1 div.sk-toggleable__content {max-height: 0;max-width: 0;overflow: hidden;text-align: left;background-color: #f0f8ff;}#sk-container-id-1 div.sk-toggleable__content pre {margin: 0.2em;color: black;border-radius: 0.25em;background-color: #f0f8ff;}#sk-container-id-1 input.sk-toggleable__control:checked~div.sk-toggleable__content {max-height: 200px;max-width: 100%;overflow: auto;}#sk-container-id-1 input.sk-toggleable__control:checked~label.sk-toggleable__label-arrow:before {content: \"▾\";}#sk-container-id-1 div.sk-estimator input.sk-toggleable__control:checked~label.sk-toggleable__label {background-color: #d4ebff;}#sk-container-id-1 div.sk-label input.sk-toggleable__control:checked~label.sk-toggleable__label {background-color: #d4ebff;}#sk-container-id-1 input.sk-hidden--visually {border: 0;clip: rect(1px 1px 1px 1px);clip: rect(1px, 1px, 1px, 1px);height: 1px;margin: -1px;overflow: hidden;padding: 0;position: absolute;width: 1px;}#sk-container-id-1 div.sk-estimator {font-family: monospace;background-color: #f0f8ff;border: 1px dotted black;border-radius: 0.25em;box-sizing: border-box;margin-bottom: 0.5em;}#sk-container-id-1 div.sk-estimator:hover {background-color: #d4ebff;}#sk-container-id-1 div.sk-parallel-item::after {content: \"\";width: 100%;border-bottom: 1px solid gray;flex-grow: 1;}#sk-container-id-1 div.sk-label:hover label.sk-toggleable__label {background-color: #d4ebff;}#sk-container-id-1 div.sk-serial::before {content: \"\";position: absolute;border-left: 1px solid gray;box-sizing: border-box;top: 0;bottom: 0;left: 50%;z-index: 0;}#sk-container-id-1 div.sk-serial {display: flex;flex-direction: column;align-items: center;background-color: white;padding-right: 0.2em;padding-left: 0.2em;position: relative;}#sk-container-id-1 div.sk-item {position: relative;z-index: 1;}#sk-container-id-1 div.sk-parallel {display: flex;align-items: stretch;justify-content: center;background-color: white;position: relative;}#sk-container-id-1 div.sk-item::before, #sk-container-id-1 div.sk-parallel-item::before {content: \"\";position: absolute;border-left: 1px solid gray;box-sizing: border-box;top: 0;bottom: 0;left: 50%;z-index: -1;}#sk-container-id-1 div.sk-parallel-item {display: flex;flex-direction: column;z-index: 1;position: relative;background-color: white;}#sk-container-id-1 div.sk-parallel-item:first-child::after {align-self: flex-end;width: 50%;}#sk-container-id-1 div.sk-parallel-item:last-child::after {align-self: flex-start;width: 50%;}#sk-container-id-1 div.sk-parallel-item:only-child::after {width: 0;}#sk-container-id-1 div.sk-dashed-wrapped {border: 1px dashed gray;margin: 0 0.4em 0.5em 0.4em;box-sizing: border-box;padding-bottom: 0.4em;background-color: white;}#sk-container-id-1 div.sk-label label {font-family: monospace;font-weight: bold;display: inline-block;line-height: 1.2em;}#sk-container-id-1 div.sk-label-container {text-align: center;}#sk-container-id-1 div.sk-container {/* jupyter's `normalize.less` sets `[hidden] { display: none; }` but bootstrap.min.css set `[hidden] { display: none !important; }` so we also need the `!important` here to be able to override the default hidden behavior on the sphinx rendered scikit-learn.org. See: https://github.com/scikit-learn/scikit-learn/issues/21755 */display: inline-block !important;position: relative;}#sk-container-id-1 div.sk-text-repr-fallback {display: none;}</style><div id=\"sk-container-id-1\" class=\"sk-top-container\"><div class=\"sk-text-repr-fallback\"><pre>RandomForestClassifier(random_state=42)</pre><b>In a Jupyter environment, please rerun this cell to show the HTML representation or trust the notebook. <br />On GitHub, the HTML representation is unable to render, please try loading this page with nbviewer.org.</b></div><div class=\"sk-container\" hidden><div class=\"sk-item\"><div class=\"sk-estimator sk-toggleable\"><input class=\"sk-toggleable__control sk-hidden--visually\" id=\"sk-estimator-id-1\" type=\"checkbox\" checked><label for=\"sk-estimator-id-1\" class=\"sk-toggleable__label sk-toggleable__label-arrow\">RandomForestClassifier</label><div class=\"sk-toggleable__content\"><pre>RandomForestClassifier(random_state=42)</pre></div></div></div></div></div>"
            ]
          },
          "metadata": {},
          "execution_count": 19
        }
      ]
    },
    {
      "cell_type": "code",
      "source": [
        "mnb_clf_blend = MultinomialNB()\n",
        "mnb_clf_blend.fit(X_train_blend, y_train_blend)\n",
        "\n"
      ],
      "metadata": {
        "colab": {
          "base_uri": "https://localhost:8080/",
          "height": 75
        },
        "id": "jQFCi94lHFJE",
        "outputId": "b58a0653-906f-4c9d-9339-07e6152ab83f"
      },
      "execution_count": null,
      "outputs": [
        {
          "output_type": "execute_result",
          "data": {
            "text/plain": [
              "MultinomialNB()"
            ],
            "text/html": [
              "<style>#sk-container-id-2 {color: black;background-color: white;}#sk-container-id-2 pre{padding: 0;}#sk-container-id-2 div.sk-toggleable {background-color: white;}#sk-container-id-2 label.sk-toggleable__label {cursor: pointer;display: block;width: 100%;margin-bottom: 0;padding: 0.3em;box-sizing: border-box;text-align: center;}#sk-container-id-2 label.sk-toggleable__label-arrow:before {content: \"▸\";float: left;margin-right: 0.25em;color: #696969;}#sk-container-id-2 label.sk-toggleable__label-arrow:hover:before {color: black;}#sk-container-id-2 div.sk-estimator:hover label.sk-toggleable__label-arrow:before {color: black;}#sk-container-id-2 div.sk-toggleable__content {max-height: 0;max-width: 0;overflow: hidden;text-align: left;background-color: #f0f8ff;}#sk-container-id-2 div.sk-toggleable__content pre {margin: 0.2em;color: black;border-radius: 0.25em;background-color: #f0f8ff;}#sk-container-id-2 input.sk-toggleable__control:checked~div.sk-toggleable__content {max-height: 200px;max-width: 100%;overflow: auto;}#sk-container-id-2 input.sk-toggleable__control:checked~label.sk-toggleable__label-arrow:before {content: \"▾\";}#sk-container-id-2 div.sk-estimator input.sk-toggleable__control:checked~label.sk-toggleable__label {background-color: #d4ebff;}#sk-container-id-2 div.sk-label input.sk-toggleable__control:checked~label.sk-toggleable__label {background-color: #d4ebff;}#sk-container-id-2 input.sk-hidden--visually {border: 0;clip: rect(1px 1px 1px 1px);clip: rect(1px, 1px, 1px, 1px);height: 1px;margin: -1px;overflow: hidden;padding: 0;position: absolute;width: 1px;}#sk-container-id-2 div.sk-estimator {font-family: monospace;background-color: #f0f8ff;border: 1px dotted black;border-radius: 0.25em;box-sizing: border-box;margin-bottom: 0.5em;}#sk-container-id-2 div.sk-estimator:hover {background-color: #d4ebff;}#sk-container-id-2 div.sk-parallel-item::after {content: \"\";width: 100%;border-bottom: 1px solid gray;flex-grow: 1;}#sk-container-id-2 div.sk-label:hover label.sk-toggleable__label {background-color: #d4ebff;}#sk-container-id-2 div.sk-serial::before {content: \"\";position: absolute;border-left: 1px solid gray;box-sizing: border-box;top: 0;bottom: 0;left: 50%;z-index: 0;}#sk-container-id-2 div.sk-serial {display: flex;flex-direction: column;align-items: center;background-color: white;padding-right: 0.2em;padding-left: 0.2em;position: relative;}#sk-container-id-2 div.sk-item {position: relative;z-index: 1;}#sk-container-id-2 div.sk-parallel {display: flex;align-items: stretch;justify-content: center;background-color: white;position: relative;}#sk-container-id-2 div.sk-item::before, #sk-container-id-2 div.sk-parallel-item::before {content: \"\";position: absolute;border-left: 1px solid gray;box-sizing: border-box;top: 0;bottom: 0;left: 50%;z-index: -1;}#sk-container-id-2 div.sk-parallel-item {display: flex;flex-direction: column;z-index: 1;position: relative;background-color: white;}#sk-container-id-2 div.sk-parallel-item:first-child::after {align-self: flex-end;width: 50%;}#sk-container-id-2 div.sk-parallel-item:last-child::after {align-self: flex-start;width: 50%;}#sk-container-id-2 div.sk-parallel-item:only-child::after {width: 0;}#sk-container-id-2 div.sk-dashed-wrapped {border: 1px dashed gray;margin: 0 0.4em 0.5em 0.4em;box-sizing: border-box;padding-bottom: 0.4em;background-color: white;}#sk-container-id-2 div.sk-label label {font-family: monospace;font-weight: bold;display: inline-block;line-height: 1.2em;}#sk-container-id-2 div.sk-label-container {text-align: center;}#sk-container-id-2 div.sk-container {/* jupyter's `normalize.less` sets `[hidden] { display: none; }` but bootstrap.min.css set `[hidden] { display: none !important; }` so we also need the `!important` here to be able to override the default hidden behavior on the sphinx rendered scikit-learn.org. See: https://github.com/scikit-learn/scikit-learn/issues/21755 */display: inline-block !important;position: relative;}#sk-container-id-2 div.sk-text-repr-fallback {display: none;}</style><div id=\"sk-container-id-2\" class=\"sk-top-container\"><div class=\"sk-text-repr-fallback\"><pre>MultinomialNB()</pre><b>In a Jupyter environment, please rerun this cell to show the HTML representation or trust the notebook. <br />On GitHub, the HTML representation is unable to render, please try loading this page with nbviewer.org.</b></div><div class=\"sk-container\" hidden><div class=\"sk-item\"><div class=\"sk-estimator sk-toggleable\"><input class=\"sk-toggleable__control sk-hidden--visually\" id=\"sk-estimator-id-2\" type=\"checkbox\" checked><label for=\"sk-estimator-id-2\" class=\"sk-toggleable__label sk-toggleable__label-arrow\">MultinomialNB</label><div class=\"sk-toggleable__content\"><pre>MultinomialNB()</pre></div></div></div></div></div>"
            ]
          },
          "metadata": {},
          "execution_count": 20
        }
      ]
    },
    {
      "cell_type": "code",
      "source": [
        "# trained models to make predicted probabilities on the holdout set\n",
        "rf_probabilities_blend = rf_clf_blend.predict_proba(X_holdout_blend)\n",
        "mnb_probabilities_blend = mnb_clf_blend.predict_proba(X_holdout_blend)\n"
      ],
      "metadata": {
        "id": "xd7QieipHJwE"
      },
      "execution_count": null,
      "outputs": []
    },
    {
      "cell_type": "code",
      "source": [
        "# Stack probabilities to be used as features for the meta-model\n",
        "stacked_probabilities = np.column_stack((rf_probabilities_blend, mnb_probabilities_blend))\n"
      ],
      "metadata": {
        "id": "AwffAAGLHKRL"
      },
      "execution_count": null,
      "outputs": []
    },
    {
      "cell_type": "code",
      "source": [
        "# Train the meta-model (Logistic Regression) on the stacked probabilities\n",
        "meta_model = LogisticRegression(max_iter=1000, random_state=42)\n",
        "meta_model.fit(stacked_probabilities, y_holdout_blend)\n"
      ],
      "metadata": {
        "colab": {
          "base_uri": "https://localhost:8080/",
          "height": 75
        },
        "id": "8jJIYk-aHMAE",
        "outputId": "c4b51def-f8a1-4f43-ed63-829973a574d2"
      },
      "execution_count": null,
      "outputs": [
        {
          "output_type": "execute_result",
          "data": {
            "text/plain": [
              "LogisticRegression(max_iter=1000, random_state=42)"
            ],
            "text/html": [
              "<style>#sk-container-id-3 {color: black;background-color: white;}#sk-container-id-3 pre{padding: 0;}#sk-container-id-3 div.sk-toggleable {background-color: white;}#sk-container-id-3 label.sk-toggleable__label {cursor: pointer;display: block;width: 100%;margin-bottom: 0;padding: 0.3em;box-sizing: border-box;text-align: center;}#sk-container-id-3 label.sk-toggleable__label-arrow:before {content: \"▸\";float: left;margin-right: 0.25em;color: #696969;}#sk-container-id-3 label.sk-toggleable__label-arrow:hover:before {color: black;}#sk-container-id-3 div.sk-estimator:hover label.sk-toggleable__label-arrow:before {color: black;}#sk-container-id-3 div.sk-toggleable__content {max-height: 0;max-width: 0;overflow: hidden;text-align: left;background-color: #f0f8ff;}#sk-container-id-3 div.sk-toggleable__content pre {margin: 0.2em;color: black;border-radius: 0.25em;background-color: #f0f8ff;}#sk-container-id-3 input.sk-toggleable__control:checked~div.sk-toggleable__content {max-height: 200px;max-width: 100%;overflow: auto;}#sk-container-id-3 input.sk-toggleable__control:checked~label.sk-toggleable__label-arrow:before {content: \"▾\";}#sk-container-id-3 div.sk-estimator input.sk-toggleable__control:checked~label.sk-toggleable__label {background-color: #d4ebff;}#sk-container-id-3 div.sk-label input.sk-toggleable__control:checked~label.sk-toggleable__label {background-color: #d4ebff;}#sk-container-id-3 input.sk-hidden--visually {border: 0;clip: rect(1px 1px 1px 1px);clip: rect(1px, 1px, 1px, 1px);height: 1px;margin: -1px;overflow: hidden;padding: 0;position: absolute;width: 1px;}#sk-container-id-3 div.sk-estimator {font-family: monospace;background-color: #f0f8ff;border: 1px dotted black;border-radius: 0.25em;box-sizing: border-box;margin-bottom: 0.5em;}#sk-container-id-3 div.sk-estimator:hover {background-color: #d4ebff;}#sk-container-id-3 div.sk-parallel-item::after {content: \"\";width: 100%;border-bottom: 1px solid gray;flex-grow: 1;}#sk-container-id-3 div.sk-label:hover label.sk-toggleable__label {background-color: #d4ebff;}#sk-container-id-3 div.sk-serial::before {content: \"\";position: absolute;border-left: 1px solid gray;box-sizing: border-box;top: 0;bottom: 0;left: 50%;z-index: 0;}#sk-container-id-3 div.sk-serial {display: flex;flex-direction: column;align-items: center;background-color: white;padding-right: 0.2em;padding-left: 0.2em;position: relative;}#sk-container-id-3 div.sk-item {position: relative;z-index: 1;}#sk-container-id-3 div.sk-parallel {display: flex;align-items: stretch;justify-content: center;background-color: white;position: relative;}#sk-container-id-3 div.sk-item::before, #sk-container-id-3 div.sk-parallel-item::before {content: \"\";position: absolute;border-left: 1px solid gray;box-sizing: border-box;top: 0;bottom: 0;left: 50%;z-index: -1;}#sk-container-id-3 div.sk-parallel-item {display: flex;flex-direction: column;z-index: 1;position: relative;background-color: white;}#sk-container-id-3 div.sk-parallel-item:first-child::after {align-self: flex-end;width: 50%;}#sk-container-id-3 div.sk-parallel-item:last-child::after {align-self: flex-start;width: 50%;}#sk-container-id-3 div.sk-parallel-item:only-child::after {width: 0;}#sk-container-id-3 div.sk-dashed-wrapped {border: 1px dashed gray;margin: 0 0.4em 0.5em 0.4em;box-sizing: border-box;padding-bottom: 0.4em;background-color: white;}#sk-container-id-3 div.sk-label label {font-family: monospace;font-weight: bold;display: inline-block;line-height: 1.2em;}#sk-container-id-3 div.sk-label-container {text-align: center;}#sk-container-id-3 div.sk-container {/* jupyter's `normalize.less` sets `[hidden] { display: none; }` but bootstrap.min.css set `[hidden] { display: none !important; }` so we also need the `!important` here to be able to override the default hidden behavior on the sphinx rendered scikit-learn.org. See: https://github.com/scikit-learn/scikit-learn/issues/21755 */display: inline-block !important;position: relative;}#sk-container-id-3 div.sk-text-repr-fallback {display: none;}</style><div id=\"sk-container-id-3\" class=\"sk-top-container\"><div class=\"sk-text-repr-fallback\"><pre>LogisticRegression(max_iter=1000, random_state=42)</pre><b>In a Jupyter environment, please rerun this cell to show the HTML representation or trust the notebook. <br />On GitHub, the HTML representation is unable to render, please try loading this page with nbviewer.org.</b></div><div class=\"sk-container\" hidden><div class=\"sk-item\"><div class=\"sk-estimator sk-toggleable\"><input class=\"sk-toggleable__control sk-hidden--visually\" id=\"sk-estimator-id-3\" type=\"checkbox\" checked><label for=\"sk-estimator-id-3\" class=\"sk-toggleable__label sk-toggleable__label-arrow\">LogisticRegression</label><div class=\"sk-toggleable__content\"><pre>LogisticRegression(max_iter=1000, random_state=42)</pre></div></div></div></div></div>"
            ]
          },
          "metadata": {},
          "execution_count": 23
        }
      ]
    },
    {
      "cell_type": "code",
      "source": [
        "# Predict on the holdout set using the meta-model\n",
        "meta_predictions = meta_model.predict(stacked_probabilities)\n",
        "\n",
        "# Evaluate the blending ensemble's performance\n",
        "blending_report = classification_report(y_holdout_blend, meta_predictions, target_names=['Negative', 'Neutral', 'Positive'])\n",
        "print(blending_report)"
      ],
      "metadata": {
        "colab": {
          "base_uri": "https://localhost:8080/"
        },
        "id": "UJhnA_CDHP3c",
        "outputId": "dadefa12-1cb8-47f6-9bdf-97faa13410f0"
      },
      "execution_count": null,
      "outputs": [
        {
          "output_type": "stream",
          "name": "stdout",
          "text": [
            "              precision    recall  f1-score   support\n",
            "\n",
            "    Negative       1.00      1.00      1.00       740\n",
            "     Neutral       1.00      1.00      1.00       751\n",
            "    Positive       1.00      1.00      1.00       759\n",
            "\n",
            "    accuracy                           1.00      2250\n",
            "   macro avg       1.00      1.00      1.00      2250\n",
            "weighted avg       1.00      1.00      1.00      2250\n",
            "\n"
          ]
        }
      ]
    },
    {
      "cell_type": "code",
      "source": [
        "from keras.preprocessing.text import Tokenizer\n",
        "from keras.preprocessing.sequence import pad_sequences\n",
        "from keras.utils import to_categorical\n",
        "\n",
        "# Set parameters for tokenization and sequence padding\n",
        "top_words = 5000p\n",
        "max_review_length = 100\n",
        "\n",
        "# Tokenize the text data\n",
        "tokenizer = Tokenizer(num_words=top_words, filters='!\"#$%&()*+,-./:;<=>?@[\\\\]^_`{|}~\\t\\n', lower=True)\n",
        "tokenizer.fit_on_texts(oversampled_data['reviews.text'])\n",
        "X_sequences = tokenizer.texts_to_sequences(oversampled_data['reviews.text'])\n",
        "\n",
        "# Pad sequences to ensure consistent length\n",
        "X_padded = pad_sequences(X_sequences, maxlen=max_review_length)\n",
        "\n",
        "# Convert sentiment labels to one-hot encoded format\n",
        "sentiment_mapping = {'Negative': 0, 'Neutral': 1, 'Positive': 2}\n",
        "y_encoded = to_categorical(oversampled_data['sentiment'].map(sentiment_mapping))"
      ],
      "metadata": {
        "id": "qAPyqlpnHUZl"
      },
      "execution_count": null,
      "outputs": []
    },
    {
      "cell_type": "code",
      "source": [
        "from keras.models import Sequential\n",
        "from keras.layers import Embedding, LSTM, Dense, Dropout\n",
        "\n",
        "# Define the LSTM model\n",
        "embedding_length = 32\n",
        "\n",
        "model_lstm = Sequential()\n",
        "model_lstm.add(Embedding(top_words, embedding_length, input_length=max_review_length))\n",
        "model_lstm.add(LSTM(100))\n",
        "model_lstm.add(Dropout(0.5))\n",
        "model_lstm.add(Dense(3, activation='softmax'))\n",
        "model_lstm.compile(loss='categorical_crossentropy', optimizer='adam', metrics=['accuracy'])\n",
        "\n",
        "model_lstm.summary()\n",
        "\n",
        "# Train the model\n",
        "model_lstm.fit(X_padded, y_encoded, epochs=10, batch_size=64, validation_split=0.2)\n"
      ],
      "metadata": {
        "colab": {
          "base_uri": "https://localhost:8080/"
        },
        "id": "8PNLxmbaH4s_",
        "outputId": "76ac992c-14a6-485c-dcea-32ef5f5f8600"
      },
      "execution_count": null,
      "outputs": [
        {
          "output_type": "stream",
          "name": "stdout",
          "text": [
            "Model: \"sequential\"\n",
            "_________________________________________________________________\n",
            " Layer (type)                Output Shape              Param #   \n",
            "=================================================================\n",
            " embedding (Embedding)       (None, 100, 32)           160000    \n",
            "                                                                 \n",
            " lstm (LSTM)                 (None, 100)               53200     \n",
            "                                                                 \n",
            " dropout (Dropout)           (None, 100)               0         \n",
            "                                                                 \n",
            " dense (Dense)               (None, 3)                 303       \n",
            "                                                                 \n",
            "=================================================================\n",
            "Total params: 213503 (834.00 KB)\n",
            "Trainable params: 213503 (834.00 KB)\n",
            "Non-trainable params: 0 (0.00 Byte)\n",
            "_________________________________________________________________\n",
            "Epoch 1/10\n",
            "141/141 [==============================] - 43s 257ms/step - loss: 0.6815 - accuracy: 0.6875 - val_loss: 0.1148 - val_accuracy: 0.9827\n",
            "Epoch 2/10\n",
            "141/141 [==============================] - 22s 153ms/step - loss: 0.0993 - accuracy: 0.9734 - val_loss: 0.0310 - val_accuracy: 1.0000\n",
            "Epoch 3/10\n",
            "141/141 [==============================] - 20s 143ms/step - loss: 0.0424 - accuracy: 0.9908 - val_loss: 0.0120 - val_accuracy: 1.0000\n",
            "Epoch 4/10\n",
            "141/141 [==============================] - 19s 137ms/step - loss: 0.0130 - accuracy: 0.9974 - val_loss: 0.0029 - val_accuracy: 1.0000\n",
            "Epoch 5/10\n",
            "141/141 [==============================] - 22s 156ms/step - loss: 0.0055 - accuracy: 0.9992 - val_loss: 0.0018 - val_accuracy: 1.0000\n",
            "Epoch 6/10\n",
            "141/141 [==============================] - 21s 149ms/step - loss: 0.0044 - accuracy: 0.9992 - val_loss: 9.3587e-04 - val_accuracy: 1.0000\n",
            "Epoch 7/10\n",
            "141/141 [==============================] - 21s 152ms/step - loss: 0.0011 - accuracy: 0.9999 - val_loss: 3.6629e-04 - val_accuracy: 1.0000\n",
            "Epoch 8/10\n",
            "141/141 [==============================] - 22s 155ms/step - loss: 5.7544e-04 - accuracy: 1.0000 - val_loss: 2.9797e-04 - val_accuracy: 1.0000\n",
            "Epoch 9/10\n",
            "141/141 [==============================] - 20s 145ms/step - loss: 0.0859 - accuracy: 0.9765 - val_loss: 0.0283 - val_accuracy: 1.0000\n",
            "Epoch 10/10\n",
            "141/141 [==============================] - 21s 147ms/step - loss: 0.0074 - accuracy: 0.9984 - val_loss: 0.0015 - val_accuracy: 1.0000\n"
          ]
        },
        {
          "output_type": "execute_result",
          "data": {
            "text/plain": [
              "<keras.src.callbacks.History at 0x7eaf5c1a2ce0>"
            ]
          },
          "metadata": {},
          "execution_count": 26
        }
      ]
    },
    {
      "cell_type": "code",
      "source": [
        "from keras.layers import GRU\n",
        "\n",
        "# Define the GRU model\n",
        "model_gru = Sequential()\n",
        "model_gru.add(Embedding(top_words, embedding_length, input_length=max_review_length))\n",
        "model_gru.add(GRU(100))\n",
        "model_gru.add(Dropout(0.5))\n",
        "model_gru.add(Dense(3, activation='softmax'))\n",
        "model_gru.compile(loss='categorical_crossentropy', optimizer='adam', metrics=['accuracy'])\n",
        "\n",
        "model_gru.summary()\n",
        "\n",
        "# Train the model\n",
        "model_gru.fit(X_padded, y_encoded, epochs=10, batch_size=64, validation_split=0.2)\n"
      ],
      "metadata": {
        "colab": {
          "base_uri": "https://localhost:8080/"
        },
        "id": "y13sG9otH7KE",
        "outputId": "951cb1f1-8cc3-417d-d19a-f201b149baa8"
      },
      "execution_count": null,
      "outputs": [
        {
          "output_type": "stream",
          "name": "stdout",
          "text": [
            "Model: \"sequential_1\"\n",
            "_________________________________________________________________\n",
            " Layer (type)                Output Shape              Param #   \n",
            "=================================================================\n",
            " embedding_1 (Embedding)     (None, 100, 32)           160000    \n",
            "                                                                 \n",
            " gru (GRU)                   (None, 100)               40200     \n",
            "                                                                 \n",
            " dropout_1 (Dropout)         (None, 100)               0         \n",
            "                                                                 \n",
            " dense_1 (Dense)             (None, 3)                 303       \n",
            "                                                                 \n",
            "=================================================================\n",
            "Total params: 200503 (783.21 KB)\n",
            "Trainable params: 200503 (783.21 KB)\n",
            "Non-trainable params: 0 (0.00 Byte)\n",
            "_________________________________________________________________\n",
            "Epoch 1/10\n",
            "141/141 [==============================] - 23s 145ms/step - loss: 0.6596 - accuracy: 0.7261 - val_loss: 0.3285 - val_accuracy: 0.9253\n",
            "Epoch 2/10\n",
            "141/141 [==============================] - 19s 134ms/step - loss: 0.0825 - accuracy: 0.9791 - val_loss: 0.0257 - val_accuracy: 1.0000\n",
            "Epoch 3/10\n",
            "141/141 [==============================] - 20s 139ms/step - loss: 0.0219 - accuracy: 0.9956 - val_loss: 0.0105 - val_accuracy: 1.0000\n",
            "Epoch 4/10\n",
            "141/141 [==============================] - 25s 180ms/step - loss: 0.0064 - accuracy: 0.9991 - val_loss: 0.0023 - val_accuracy: 1.0000\n",
            "Epoch 5/10\n",
            "141/141 [==============================] - 20s 142ms/step - loss: 0.0030 - accuracy: 0.9998 - val_loss: 8.8714e-04 - val_accuracy: 1.0000\n",
            "Epoch 6/10\n",
            "141/141 [==============================] - 19s 133ms/step - loss: 0.0016 - accuracy: 0.9999 - val_loss: 5.4934e-04 - val_accuracy: 1.0000\n",
            "Epoch 7/10\n",
            "141/141 [==============================] - 25s 181ms/step - loss: 6.8453e-04 - accuracy: 1.0000 - val_loss: 3.3635e-04 - val_accuracy: 1.0000\n",
            "Epoch 8/10\n",
            "141/141 [==============================] - 23s 166ms/step - loss: 4.2723e-04 - accuracy: 1.0000 - val_loss: 2.2328e-04 - val_accuracy: 1.0000\n",
            "Epoch 9/10\n",
            "141/141 [==============================] - 26s 186ms/step - loss: 3.3005e-04 - accuracy: 1.0000 - val_loss: 1.4683e-04 - val_accuracy: 1.0000\n",
            "Epoch 10/10\n",
            "141/141 [==============================] - 18s 131ms/step - loss: 2.5027e-04 - accuracy: 1.0000 - val_loss: 9.7124e-05 - val_accuracy: 1.0000\n"
          ]
        },
        {
          "output_type": "execute_result",
          "data": {
            "text/plain": [
              "<keras.src.callbacks.History at 0x7eaf4ba89090>"
            ]
          },
          "metadata": {},
          "execution_count": 27
        }
      ]
    },
    {
      "cell_type": "code",
      "source": [
        "from sklearn.decomposition import LatentDirichletAllocation\n",
        "\n",
        "# Number of topics\n",
        "n_topics = 5\n",
        "\n",
        "# Create and fit the LDA model\n",
        "lda = LatentDirichletAllocation(n_components=n_topics, random_state=42)\n",
        "lda_result = lda.fit_transform(X_reduced_tfidf)\n",
        "\n",
        "# Display the top words for each topic\n",
        "def display_topics(model, feature_names, no_top_words):\n",
        "    topic_dict = {}\n",
        "    for topic_idx, topic in enumerate(model.components_):\n",
        "        top_words = [feature_names[i] for i in topic.argsort()[:-no_top_words - 1:-1]]\n",
        "        topic_dict[\"Topic %d\" % (topic_idx)] = top_words\n",
        "    return topic_dict\n",
        "\n",
        "no_top_words = 10\n",
        "lda_topics = display_topics(lda, reduced_tfidf_vectorizer.get_feature_names_out(), no_top_words)\n",
        "lda_topics\n"
      ],
      "metadata": {
        "id": "_Cwfg7q8H-Ej"
      },
      "execution_count": null,
      "outputs": []
    },
    {
      "cell_type": "code",
      "source": [
        "from sklearn.cluster import KMeans\n",
        "\n",
        "# Choose a number of clusters; we'll start with 5 to match our previous number of topics\n",
        "n_clusters = 5\n",
        "\n",
        "# Apply KMeans clustering\n",
        "kmeans = KMeans(n_clusters=n_clusters, random_state=42)\n",
        "clusters = kmeans.fit_predict(X_reduced_tfidf)\n",
        "\n",
        "# Function to get top keywords for each cluster\n",
        "def get_top_keywords(data, clusters, labels, n_terms):\n",
        "    df = pd.DataFrame(data.todense()).groupby(clusters).mean()\n",
        "\n",
        "    top_keywords = {}\n",
        "    for i, r in df.iterrows():\n",
        "        top_keywords[\"Cluster %d\" % i] = [labels[t] for t in np.argsort(r)[-n_terms:]]\n",
        "\n",
        "    return top_keywords\n",
        "\n",
        "cluster_keywords = get_top_keywords(X_reduced_tfidf, clusters, reduced_tfidf_vectorizer.get_feature_names_out(), 10)\n",
        "cluster_keywords\n"
      ],
      "metadata": {
        "colab": {
          "base_uri": "https://localhost:8080/"
        },
        "id": "eeb1M1keJZvy",
        "outputId": "39bc2b04-326c-401d-ab20-cc183a999bf6"
      },
      "execution_count": null,
      "outputs": [
        {
          "output_type": "stream",
          "name": "stderr",
          "text": [
            "/usr/local/lib/python3.10/dist-packages/sklearn/cluster/_kmeans.py:870: FutureWarning: The default value of `n_init` will change from 10 to 'auto' in 1.4. Set the value of `n_init` explicitly to suppress the warning\n",
            "  warnings.warn(\n"
          ]
        },
        {
          "output_type": "execute_result",
          "data": {
            "text/plain": [
              "{'Cluster 0': ['useless',\n",
              "  'shuts',\n",
              "  'models',\n",
              "  'speakers',\n",
              "  'kindle',\n",
              "  'week',\n",
              "  'junk',\n",
              "  'old',\n",
              "  'year',\n",
              "  'generation'],\n",
              " 'Cluster 1': ['children',\n",
              "  'returned',\n",
              "  'hard',\n",
              "  'like',\n",
              "  'device',\n",
              "  'good',\n",
              "  'easy',\n",
              "  'apps',\n",
              "  'product',\n",
              "  'use'],\n",
              " 'Cluster 2': ['kid',\n",
              "  'average',\n",
              "  'just',\n",
              "  'apple',\n",
              "  'responsive',\n",
              "  'information',\n",
              "  'limited',\n",
              "  'user',\n",
              "  'program',\n",
              "  'friendly'],\n",
              " 'Cluster 3': ['like',\n",
              "  'bought',\n",
              "  'amazon',\n",
              "  'buy',\n",
              "  'just',\n",
              "  'alexa',\n",
              "  'screen',\n",
              "  'love',\n",
              "  'echo',\n",
              "  'great'],\n",
              " 'Cluster 4': ['disappointed',\n",
              "  'curious',\n",
              "  'kids',\n",
              "  'apps',\n",
              "  'price',\n",
              "  'great',\n",
              "  'games',\n",
              "  'amazon',\n",
              "  'good',\n",
              "  'tablet']}"
            ]
          },
          "metadata": {},
          "execution_count": 31
        }
      ]
    },
    {
      "cell_type": "code",
      "source": [
        "# Increase the number of topics for a more granular exploration\n",
        "n_topics_detailed = 10\n",
        "\n",
        "# Create and fit the LDA model\n",
        "lda_detailed = LatentDirichletAllocation(n_components=n_topics_detailed, random_state=42, max_iter=15)\n",
        "lda_result_detailed = lda_detailed.fit_transform(X_reduced_tfidf)\n",
        "\n",
        "# Display the top words for each topic\n",
        "no_top_words_detailed = 15\n",
        "lda_topics_detailed = display_topics(lda_detailed, reduced_tfidf_vectorizer.get_feature_names_out(), no_top_words_detailed)\n",
        "lda_topics_detailed\n"
      ],
      "metadata": {
        "colab": {
          "base_uri": "https://localhost:8080/"
        },
        "id": "4ykia7XEKMP1",
        "outputId": "1879a356-7301-4b5c-c36f-addd5c083248"
      },
      "execution_count": null,
      "outputs": [
        {
          "output_type": "execute_result",
          "data": {
            "text/plain": [
              "{'Topic 0': ['loves',\n",
              "  'son',\n",
              "  'bought',\n",
              "  'alexa',\n",
              "  'great',\n",
              "  'gift',\n",
              "  'tablet',\n",
              "  'echo',\n",
              "  'easy',\n",
              "  'home',\n",
              "  'love',\n",
              "  'games',\n",
              "  'product',\n",
              "  'friendly',\n",
              "  'just'],\n",
              " 'Topic 1': ['junk',\n",
              "  'week',\n",
              "  'apps',\n",
              "  'randomly',\n",
              "  'closes',\n",
              "  'use',\n",
              "  'lots',\n",
              "  'ads',\n",
              "  'paper',\n",
              "  'hard',\n",
              "  'lasted',\n",
              "  'used',\n",
              "  'screen',\n",
              "  'charge',\n",
              "  'doesn'],\n",
              " 'Topic 2': ['good',\n",
              "  'reading',\n",
              "  'tablet',\n",
              "  'books',\n",
              "  'dark',\n",
              "  'download',\n",
              "  'apps',\n",
              "  'load',\n",
              "  'use',\n",
              "  'chrome',\n",
              "  'run',\n",
              "  'amazon',\n",
              "  'store',\n",
              "  'tries',\n",
              "  'proper'],\n",
              " 'Topic 3': ['generation',\n",
              "  'product',\n",
              "  'cause',\n",
              "  '4th',\n",
              "  'bad',\n",
              "  '5th',\n",
              "  'sound',\n",
              "  'better',\n",
              "  'like',\n",
              "  'really',\n",
              "  'buy',\n",
              "  'kindle',\n",
              "  'tablets',\n",
              "  'apps',\n",
              "  'great'],\n",
              " 'Topic 4': ['echo',\n",
              "  'great',\n",
              "  'play',\n",
              "  'love',\n",
              "  'good',\n",
              "  'plus',\n",
              "  'better',\n",
              "  'amazon',\n",
              "  'like',\n",
              "  'account',\n",
              "  'movies',\n",
              "  'device',\n",
              "  'thing',\n",
              "  'store',\n",
              "  'use'],\n",
              " 'Topic 5': ['christmas',\n",
              "  'model',\n",
              "  'card',\n",
              "  'going',\n",
              "  'kindle',\n",
              "  'just',\n",
              "  'sd',\n",
              "  'fun',\n",
              "  'models',\n",
              "  'work',\n",
              "  'shuts',\n",
              "  'year',\n",
              "  'times',\n",
              "  'registered',\n",
              "  'device'],\n",
              " 'Topic 6': ['kindle',\n",
              "  'version',\n",
              "  'curious',\n",
              "  'updated',\n",
              "  'tablet',\n",
              "  'disappointed',\n",
              "  'happy',\n",
              "  'old',\n",
              "  'year',\n",
              "  'light',\n",
              "  'pay',\n",
              "  'bought',\n",
              "  'reading',\n",
              "  'ok',\n",
              "  'store'],\n",
              " 'Topic 7': ['program',\n",
              "  'install',\n",
              "  'basically',\n",
              "  'liked',\n",
              "  'proprietary',\n",
              "  'worthless',\n",
              "  'kids',\n",
              "  'daughter',\n",
              "  'apps',\n",
              "  'returned',\n",
              "  'echo',\n",
              "  'sound',\n",
              "  'user',\n",
              "  'good',\n",
              "  'comes'],\n",
              " 'Topic 8': ['device',\n",
              "  'amazon',\n",
              "  'use',\n",
              "  'tablet',\n",
              "  'does',\n",
              "  'needs',\n",
              "  'good',\n",
              "  'work',\n",
              "  'great',\n",
              "  '20',\n",
              "  'things',\n",
              "  'useless',\n",
              "  'just',\n",
              "  'connection',\n",
              "  'regular'],\n",
              " 'Topic 9': ['tablet',\n",
              "  'great',\n",
              "  'easy',\n",
              "  'use',\n",
              "  'love',\n",
              "  'good',\n",
              "  'price',\n",
              "  'loves',\n",
              "  'kids',\n",
              "  'screen',\n",
              "  'recommend',\n",
              "  'child',\n",
              "  'works',\n",
              "  'enjoys',\n",
              "  'bought']}"
            ]
          },
          "metadata": {},
          "execution_count": 32
        }
      ]
    },
    {
      "cell_type": "code",
      "source": [],
      "metadata": {
        "id": "jETy8dvcLbQe"
      },
      "execution_count": null,
      "outputs": []
    }
  ]
}