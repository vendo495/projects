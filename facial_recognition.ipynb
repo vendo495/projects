{
  "nbformat": 4,
  "nbformat_minor": 0,
  "metadata": {
    "colab": {
      "provenance": [],
      "include_colab_link": true
    },
    "kernelspec": {
      "name": "python3",
      "display_name": "Python 3"
    },
    "language_info": {
      "name": "python"
    }
  },
  "cells": [
    {
      "cell_type": "markdown",
      "metadata": {
        "id": "view-in-github",
        "colab_type": "text"
      },
      "source": [
        "<a href=\"https://colab.research.google.com/github/vendo495/projects/blob/main/facial_recognition.ipynb\" target=\"_parent\"><img src=\"https://colab.research.google.com/assets/colab-badge.svg\" alt=\"Open In Colab\"/></a>"
      ]
    },
    {
      "cell_type": "code",
      "execution_count": null,
      "metadata": {
        "id": "7RJnVlZHxYsJ"
      },
      "outputs": [],
      "source": [
        "import numpy as np\n",
        "import matplotlib.pyplot as plt\n",
        "\n",
        "from sklearn.model_selection import train_test_split\n",
        "from sklearn.preprocessing import OneHotEncoder\n",
        "\n",
        "import keras\n",
        "from keras.models import Sequential\n",
        "from keras.layers import Conv2D, MaxPooling2D, Flatten, Dense\n"
      ]
    },
    {
      "cell_type": "code",
      "source": [
        "# Load dataset\n",
        "data = np.load('ORL_faces.npz')\n",
        "data_keys = list(data.keys())\n",
        "data_keys\n"
      ],
      "metadata": {
        "colab": {
          "base_uri": "https://localhost:8080/"
        },
        "id": "QROOcFrvxc4G",
        "outputId": "ad24e930-0b48-402d-88f9-ace7a1d4e3ab"
      },
      "execution_count": null,
      "outputs": [
        {
          "output_type": "execute_result",
          "data": {
            "text/plain": [
              "['testY', 'testX', 'trainX', 'trainY']"
            ]
          },
          "metadata": {},
          "execution_count": 3
        }
      ]
    },
    {
      "cell_type": "code",
      "source": [
        "X_train = data['trainX']\n",
        "y_train = data['trainY']\n",
        "X_test = data['testX']\n",
        "y_test = data['testY']\n",
        "\n",
        "# Normalize the images\n",
        "X_train = X_train.astype('float32') / 255.0\n",
        "X_test = X_test.astype('float32') / 255.0\n",
        "\n",
        "X_train.shape, y_train.shape, X_test.shape, y_test.shape"
      ],
      "metadata": {
        "colab": {
          "base_uri": "https://localhost:8080/"
        },
        "id": "Ow5NKlzMypWY",
        "outputId": "178c441d-f2b0-4fb5-8fc8-4b5877774d7d"
      },
      "execution_count": null,
      "outputs": [
        {
          "output_type": "execute_result",
          "data": {
            "text/plain": [
              "((240, 10304), (240,), (160, 10304), (160,))"
            ]
          },
          "metadata": {},
          "execution_count": 4
        }
      ]
    },
    {
      "cell_type": "code",
      "source": [
        "# Reshape the images to their original size for the CNN\n",
        "X_train = X_train.reshape(-1, 112, 92, 1)\n",
        "X_test = X_test.reshape(-1, 112, 92, 1)\n",
        "\n",
        "X_train.shape, X_test.shape\n"
      ],
      "metadata": {
        "colab": {
          "base_uri": "https://localhost:8080/"
        },
        "id": "UgeJre88ytjf",
        "outputId": "7f983070-dab0-416f-f151-4492d858a087"
      },
      "execution_count": null,
      "outputs": [
        {
          "output_type": "execute_result",
          "data": {
            "text/plain": [
              "((240, 112, 92, 1), (160, 112, 92, 1))"
            ]
          },
          "metadata": {},
          "execution_count": 5
        }
      ]
    },
    {
      "cell_type": "code",
      "source": [
        "# Build the CNN model\n",
        "model = Sequential()\n",
        "\n",
        "# Convolutional Layer\n",
        "model.add(Conv2D(32, (3, 3), activation='relu', input_shape=(112, 92, 1)))\n",
        "model.add(MaxPooling2D((2, 2)))\n",
        "\n",
        "# Pooling Layer\n",
        "model.add(Conv2D(64, (3, 3), activation='relu'))\n",
        "model.add(MaxPooling2D((2, 2)))\n",
        "\n",
        "# Flatten and Fully Connected Layers\n",
        "model.add(Flatten())\n",
        "model.add(Dense(128, activation='relu'))\n",
        "model.add(Dense(40, activation='softmax'))  # 40 classes for 40 people\n",
        "\n",
        "# Compile the model\n",
        "model.compile(optimizer='adam', loss='sparse_categorical_crossentropy', metrics=['accuracy'])\n",
        "\n",
        "model.summary()"
      ],
      "metadata": {
        "colab": {
          "base_uri": "https://localhost:8080/"
        },
        "id": "89LTyCzYy1oT",
        "outputId": "5ebf7938-6781-4a0e-ec14-b3a2a17c349f"
      },
      "execution_count": null,
      "outputs": [
        {
          "output_type": "stream",
          "name": "stdout",
          "text": [
            "Model: \"sequential\"\n",
            "_________________________________________________________________\n",
            " Layer (type)                Output Shape              Param #   \n",
            "=================================================================\n",
            " conv2d (Conv2D)             (None, 110, 90, 32)       320       \n",
            "                                                                 \n",
            " max_pooling2d (MaxPooling2D  (None, 55, 45, 32)       0         \n",
            " )                                                               \n",
            "                                                                 \n",
            " conv2d_1 (Conv2D)           (None, 53, 43, 64)        18496     \n",
            "                                                                 \n",
            " max_pooling2d_1 (MaxPooling  (None, 26, 21, 64)       0         \n",
            " 2D)                                                             \n",
            "                                                                 \n",
            " flatten (Flatten)           (None, 34944)             0         \n",
            "                                                                 \n",
            " dense (Dense)               (None, 128)               4472960   \n",
            "                                                                 \n",
            " dense_1 (Dense)             (None, 40)                5160      \n",
            "                                                                 \n",
            "=================================================================\n",
            "Total params: 4,496,936\n",
            "Trainable params: 4,496,936\n",
            "Non-trainable params: 0\n",
            "_________________________________________________________________\n"
          ]
        }
      ]
    },
    {
      "cell_type": "code",
      "source": [
        "history = model.fit(X_train, y_train, epochs=50, validation_data=(X_test, y_test), verbose=1)\n"
      ],
      "metadata": {
        "colab": {
          "base_uri": "https://localhost:8080/"
        },
        "id": "OD8i06GZy5rA",
        "outputId": "be40a189-2f78-4815-c523-e81642225bc1"
      },
      "execution_count": null,
      "outputs": [
        {
          "output_type": "stream",
          "name": "stdout",
          "text": [
            "Epoch 1/50\n",
            "8/8 [==============================] - 7s 616ms/step - loss: 3.5145 - accuracy: 0.0583 - val_loss: 3.1304 - val_accuracy: 0.0688\n",
            "Epoch 2/50\n",
            "8/8 [==============================] - 4s 524ms/step - loss: 2.8602 - accuracy: 0.1917 - val_loss: 2.5028 - val_accuracy: 0.2125\n",
            "Epoch 3/50\n",
            "8/8 [==============================] - 5s 718ms/step - loss: 1.9949 - accuracy: 0.5167 - val_loss: 1.6624 - val_accuracy: 0.5938\n",
            "Epoch 4/50\n",
            "8/8 [==============================] - 4s 506ms/step - loss: 1.0339 - accuracy: 0.8208 - val_loss: 1.1093 - val_accuracy: 0.7063\n",
            "Epoch 5/50\n",
            "8/8 [==============================] - 4s 521ms/step - loss: 0.5300 - accuracy: 0.8583 - val_loss: 0.6086 - val_accuracy: 0.8313\n",
            "Epoch 6/50\n",
            "8/8 [==============================] - 6s 851ms/step - loss: 0.1744 - accuracy: 0.9667 - val_loss: 0.3805 - val_accuracy: 0.9312\n",
            "Epoch 7/50\n",
            "8/8 [==============================] - 4s 528ms/step - loss: 0.0553 - accuracy: 0.9917 - val_loss: 0.2975 - val_accuracy: 0.9375\n",
            "Epoch 8/50\n",
            "8/8 [==============================] - 4s 535ms/step - loss: 0.0202 - accuracy: 1.0000 - val_loss: 0.3070 - val_accuracy: 0.9250\n",
            "Epoch 9/50\n",
            "8/8 [==============================] - 6s 743ms/step - loss: 0.0095 - accuracy: 1.0000 - val_loss: 0.3465 - val_accuracy: 0.9187\n",
            "Epoch 10/50\n",
            "8/8 [==============================] - 4s 524ms/step - loss: 0.0062 - accuracy: 1.0000 - val_loss: 0.3395 - val_accuracy: 0.9438\n",
            "Epoch 11/50\n",
            "8/8 [==============================] - 5s 687ms/step - loss: 0.0041 - accuracy: 1.0000 - val_loss: 0.3078 - val_accuracy: 0.9438\n",
            "Epoch 12/50\n",
            "8/8 [==============================] - 4s 521ms/step - loss: 0.0033 - accuracy: 1.0000 - val_loss: 0.3089 - val_accuracy: 0.9438\n",
            "Epoch 13/50\n",
            "8/8 [==============================] - 4s 513ms/step - loss: 0.0027 - accuracy: 1.0000 - val_loss: 0.3219 - val_accuracy: 0.9438\n",
            "Epoch 14/50\n",
            "8/8 [==============================] - 5s 709ms/step - loss: 0.0024 - accuracy: 1.0000 - val_loss: 0.3223 - val_accuracy: 0.9438\n",
            "Epoch 15/50\n",
            "8/8 [==============================] - 4s 513ms/step - loss: 0.0021 - accuracy: 1.0000 - val_loss: 0.3190 - val_accuracy: 0.9438\n",
            "Epoch 16/50\n",
            "8/8 [==============================] - 4s 503ms/step - loss: 0.0019 - accuracy: 1.0000 - val_loss: 0.3167 - val_accuracy: 0.9438\n",
            "Epoch 17/50\n",
            "8/8 [==============================] - 6s 724ms/step - loss: 0.0017 - accuracy: 1.0000 - val_loss: 0.3202 - val_accuracy: 0.9438\n",
            "Epoch 18/50\n",
            "8/8 [==============================] - 4s 529ms/step - loss: 0.0016 - accuracy: 1.0000 - val_loss: 0.3253 - val_accuracy: 0.9438\n",
            "Epoch 19/50\n",
            "8/8 [==============================] - 4s 519ms/step - loss: 0.0014 - accuracy: 1.0000 - val_loss: 0.3259 - val_accuracy: 0.9438\n",
            "Epoch 20/50\n",
            "8/8 [==============================] - 5s 707ms/step - loss: 0.0013 - accuracy: 1.0000 - val_loss: 0.3183 - val_accuracy: 0.9438\n",
            "Epoch 21/50\n",
            "8/8 [==============================] - 4s 529ms/step - loss: 0.0012 - accuracy: 1.0000 - val_loss: 0.3211 - val_accuracy: 0.9438\n",
            "Epoch 22/50\n",
            "8/8 [==============================] - 4s 521ms/step - loss: 0.0011 - accuracy: 1.0000 - val_loss: 0.3276 - val_accuracy: 0.9438\n",
            "Epoch 23/50\n",
            "8/8 [==============================] - 5s 672ms/step - loss: 0.0010 - accuracy: 1.0000 - val_loss: 0.3324 - val_accuracy: 0.9438\n",
            "Epoch 24/50\n",
            "8/8 [==============================] - 4s 517ms/step - loss: 9.6366e-04 - accuracy: 1.0000 - val_loss: 0.3356 - val_accuracy: 0.9438\n",
            "Epoch 25/50\n",
            "8/8 [==============================] - 5s 617ms/step - loss: 8.8820e-04 - accuracy: 1.0000 - val_loss: 0.3351 - val_accuracy: 0.9438\n",
            "Epoch 26/50\n",
            "8/8 [==============================] - 5s 575ms/step - loss: 8.2158e-04 - accuracy: 1.0000 - val_loss: 0.3338 - val_accuracy: 0.9438\n",
            "Epoch 27/50\n",
            "8/8 [==============================] - 4s 528ms/step - loss: 7.6003e-04 - accuracy: 1.0000 - val_loss: 0.3313 - val_accuracy: 0.9438\n",
            "Epoch 28/50\n",
            "8/8 [==============================] - 6s 758ms/step - loss: 7.1063e-04 - accuracy: 1.0000 - val_loss: 0.3330 - val_accuracy: 0.9438\n",
            "Epoch 29/50\n",
            "8/8 [==============================] - 4s 526ms/step - loss: 6.5762e-04 - accuracy: 1.0000 - val_loss: 0.3362 - val_accuracy: 0.9438\n",
            "Epoch 30/50\n",
            "8/8 [==============================] - 4s 520ms/step - loss: 6.0972e-04 - accuracy: 1.0000 - val_loss: 0.3379 - val_accuracy: 0.9438\n",
            "Epoch 31/50\n",
            "8/8 [==============================] - 5s 718ms/step - loss: 5.7394e-04 - accuracy: 1.0000 - val_loss: 0.3395 - val_accuracy: 0.9438\n",
            "Epoch 32/50\n",
            "8/8 [==============================] - 4s 532ms/step - loss: 5.3093e-04 - accuracy: 1.0000 - val_loss: 0.3361 - val_accuracy: 0.9438\n",
            "Epoch 33/50\n",
            "8/8 [==============================] - 4s 529ms/step - loss: 4.9539e-04 - accuracy: 1.0000 - val_loss: 0.3376 - val_accuracy: 0.9438\n",
            "Epoch 34/50\n",
            "8/8 [==============================] - 6s 721ms/step - loss: 4.6324e-04 - accuracy: 1.0000 - val_loss: 0.3434 - val_accuracy: 0.9438\n",
            "Epoch 35/50\n",
            "8/8 [==============================] - 4s 538ms/step - loss: 4.3387e-04 - accuracy: 1.0000 - val_loss: 0.3439 - val_accuracy: 0.9438\n",
            "Epoch 36/50\n",
            "8/8 [==============================] - 5s 625ms/step - loss: 4.0446e-04 - accuracy: 1.0000 - val_loss: 0.3427 - val_accuracy: 0.9438\n",
            "Epoch 37/50\n",
            "8/8 [==============================] - 5s 555ms/step - loss: 3.8098e-04 - accuracy: 1.0000 - val_loss: 0.3415 - val_accuracy: 0.9500\n",
            "Epoch 38/50\n",
            "8/8 [==============================] - 4s 518ms/step - loss: 3.5556e-04 - accuracy: 1.0000 - val_loss: 0.3452 - val_accuracy: 0.9438\n",
            "Epoch 39/50\n",
            "8/8 [==============================] - 5s 673ms/step - loss: 3.3261e-04 - accuracy: 1.0000 - val_loss: 0.3457 - val_accuracy: 0.9438\n",
            "Epoch 40/50\n",
            "8/8 [==============================] - 4s 515ms/step - loss: 3.1432e-04 - accuracy: 1.0000 - val_loss: 0.3461 - val_accuracy: 0.9438\n",
            "Epoch 41/50\n",
            "8/8 [==============================] - 4s 530ms/step - loss: 2.9626e-04 - accuracy: 1.0000 - val_loss: 0.3473 - val_accuracy: 0.9500\n",
            "Epoch 42/50\n",
            "8/8 [==============================] - 6s 728ms/step - loss: 2.7916e-04 - accuracy: 1.0000 - val_loss: 0.3501 - val_accuracy: 0.9500\n",
            "Epoch 43/50\n",
            "8/8 [==============================] - 4s 539ms/step - loss: 2.6193e-04 - accuracy: 1.0000 - val_loss: 0.3526 - val_accuracy: 0.9500\n",
            "Epoch 44/50\n",
            "8/8 [==============================] - 4s 541ms/step - loss: 2.4871e-04 - accuracy: 1.0000 - val_loss: 0.3522 - val_accuracy: 0.9500\n",
            "Epoch 45/50\n",
            "8/8 [==============================] - 6s 726ms/step - loss: 2.3454e-04 - accuracy: 1.0000 - val_loss: 0.3541 - val_accuracy: 0.9500\n",
            "Epoch 46/50\n",
            "8/8 [==============================] - 4s 539ms/step - loss: 2.2199e-04 - accuracy: 1.0000 - val_loss: 0.3538 - val_accuracy: 0.9500\n",
            "Epoch 47/50\n",
            "8/8 [==============================] - 4s 554ms/step - loss: 2.1072e-04 - accuracy: 1.0000 - val_loss: 0.3548 - val_accuracy: 0.9500\n",
            "Epoch 48/50\n",
            "8/8 [==============================] - 5s 646ms/step - loss: 1.9960e-04 - accuracy: 1.0000 - val_loss: 0.3544 - val_accuracy: 0.9500\n",
            "Epoch 49/50\n",
            "8/8 [==============================] - 4s 526ms/step - loss: 1.8934e-04 - accuracy: 1.0000 - val_loss: 0.3574 - val_accuracy: 0.9500\n",
            "Epoch 50/50\n",
            "8/8 [==============================] - 5s 676ms/step - loss: 1.7983e-04 - accuracy: 1.0000 - val_loss: 0.3586 - val_accuracy: 0.9500\n"
          ]
        }
      ]
    },
    {
      "cell_type": "code",
      "source": [
        "# Plot training & validation accuracy values\n",
        "plt.plot(history.history['accuracy'])\n",
        "plt.plot(history.history['val_accuracy'])\n",
        "plt.title('Model accuracy')\n",
        "plt.ylabel('Accuracy')\n",
        "plt.xlabel('Epoch')\n",
        "plt.legend(['Train', 'Test'], loc='upper left')\n",
        "plt.show()\n",
        "\n",
        "# Plot training & validation loss values\n",
        "plt.plot(history.history['loss'])\n",
        "plt.plot(history.history['val_loss'])\n",
        "plt.title('Model loss')\n",
        "plt.ylabel('Loss')\n",
        "plt.xlabel('Epoch')\n",
        "plt.legend(['Train', 'Test'], loc='upper left')\n",
        "plt.show()\n"
      ],
      "metadata": {
        "colab": {
          "base_uri": "https://localhost:8080/",
          "height": 927
        },
        "id": "GIb-sqp80AIg",
        "outputId": "6c2544b7-2ae7-4d97-d997-4765d98d1e7f"
      },
      "execution_count": null,
      "outputs": [
        {
          "output_type": "display_data",
          "data": {
            "text/plain": [
              "<Figure size 640x480 with 1 Axes>"
            ],
            "image/png": "[encoded data removed]"
          },
          "metadata": {}
        },
        {
          "output_type": "display_data",
          "data": {
            "text/plain": [
              "<Figure size 640x480 with 1 Axes>"
            ],
            "image/png": "[encoded data removed]"
          },
          "metadata": {}
        }
      ]
    }
  ]
}